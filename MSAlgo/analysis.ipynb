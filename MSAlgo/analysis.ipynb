{
 "cells": [
  {
   "cell_type": "code",
   "execution_count": 1,
   "id": "130142b0-f0f9-4438-9f49-71731f6f74e4",
   "metadata": {},
   "outputs": [],
   "source": [
    "import pandas as pd\n",
    "import numpy as np\n",
    "import matplotlib.pyplot as plt\n",
    "import seaborn as sns\n",
    "import random\n",
    "from bring_board import createBoard\n",
    "from opening_cells import update_board\n",
    "import time\n",
    "import os\n",
    "from scipy.interpolate.rbf import Rbf\n",
    "\n",
    "from tqdm.notebook import trange"
   ]
  },
  {
   "cell_type": "code",
   "execution_count": 2,
   "id": "7e353929-9be8-4e6f-ac71-7ea169bbe1d8",
   "metadata": {},
   "outputs": [
    {
     "data": {
      "text/plain": [
       "\u001b[1;31mInit signature:\u001b[0m \u001b[0mRbf\u001b[0m\u001b[1;33m(\u001b[0m\u001b[1;33m*\u001b[0m\u001b[0margs\u001b[0m\u001b[1;33m,\u001b[0m \u001b[1;33m**\u001b[0m\u001b[0mkwargs\u001b[0m\u001b[1;33m)\u001b[0m\u001b[1;33m\u001b[0m\u001b[1;33m\u001b[0m\u001b[0m\n",
       "\u001b[1;31mDocstring:\u001b[0m     \n",
       "Rbf(*args)\n",
       "\n",
       "A class for radial basis function interpolation of functions from\n",
       "N-D scattered data to an M-D domain.\n",
       "\n",
       "Parameters\n",
       "----------\n",
       "*args : arrays\n",
       "    x, y, z, ..., d, where x, y, z, ... are the coordinates of the nodes\n",
       "    and d is the array of values at the nodes\n",
       "function : str or callable, optional\n",
       "    The radial basis function, based on the radius, r, given by the norm\n",
       "    (default is Euclidean distance); the default is 'multiquadric'::\n",
       "\n",
       "        'multiquadric': sqrt((r/self.epsilon)**2 + 1)\n",
       "        'inverse': 1.0/sqrt((r/self.epsilon)**2 + 1)\n",
       "        'gaussian': exp(-(r/self.epsilon)**2)\n",
       "        'linear': r\n",
       "        'cubic': r**3\n",
       "        'quintic': r**5\n",
       "        'thin_plate': r**2 * log(r)\n",
       "\n",
       "    If callable, then it must take 2 arguments (self, r). The epsilon\n",
       "    parameter will be available as self.epsilon. Other keyword\n",
       "    arguments passed in will be available as well.\n",
       "\n",
       "epsilon : float, optional\n",
       "    Adjustable constant for gaussian or multiquadrics functions\n",
       "    - defaults to approximate average distance between nodes (which is\n",
       "    a good start).\n",
       "smooth : float, optional\n",
       "    Values greater than zero increase the smoothness of the\n",
       "    approximation. 0 is for interpolation (default), the function will\n",
       "    always go through the nodal points in this case.\n",
       "norm : str, callable, optional\n",
       "    A function that returns the 'distance' between two points, with\n",
       "    inputs as arrays of positions (x, y, z, ...), and an output as an\n",
       "    array of distance. E.g., the default: 'euclidean', such that the result\n",
       "    is a matrix of the distances from each point in ``x1`` to each point in\n",
       "    ``x2``. For more options, see documentation of\n",
       "    `scipy.spatial.distances.cdist`.\n",
       "mode : str, optional\n",
       "    Mode of the interpolation, can be '1-D' (default) or 'N-D'. When it is\n",
       "    '1-D' the data `d` will be considered as 1-D and flattened\n",
       "    internally. When it is 'N-D' the data `d` is assumed to be an array of\n",
       "    shape (n_samples, m), where m is the dimension of the target domain.\n",
       "\n",
       "\n",
       "Attributes\n",
       "----------\n",
       "N : int\n",
       "    The number of data points (as determined by the input arrays).\n",
       "di : ndarray\n",
       "    The 1-D array of data values at each of the data coordinates `xi`.\n",
       "xi : ndarray\n",
       "    The 2-D array of data coordinates.\n",
       "function : str or callable\n",
       "    The radial basis function. See description under Parameters.\n",
       "epsilon : float\n",
       "    Parameter used by gaussian or multiquadrics functions. See Parameters.\n",
       "smooth : float\n",
       "    Smoothing parameter. See description under Parameters.\n",
       "norm : str or callable\n",
       "    The distance function. See description under Parameters.\n",
       "mode : str\n",
       "    Mode of the interpolation. See description under Parameters.\n",
       "nodes : ndarray\n",
       "    A 1-D array of node values for the interpolation.\n",
       "A : internal property, do not use\n",
       "\n",
       "Examples\n",
       "--------\n",
       ">>> from scipy.interpolate import Rbf\n",
       ">>> x, y, z, d = np.random.rand(4, 50)\n",
       ">>> rbfi = Rbf(x, y, z, d)  # radial basis function interpolator instance\n",
       ">>> xi = yi = zi = np.linspace(0, 1, 20)\n",
       ">>> di = rbfi(xi, yi, zi)   # interpolated values\n",
       ">>> di.shape\n",
       "(20,)\n",
       "\u001b[1;31mFile:\u001b[0m           c:\\users\\prans\\anaconda3\\lib\\site-packages\\scipy\\interpolate\\rbf.py\n",
       "\u001b[1;31mType:\u001b[0m           type\n",
       "\u001b[1;31mSubclasses:\u001b[0m     \n"
      ]
     },
     "metadata": {},
     "output_type": "display_data"
    }
   ],
   "source": [
    "Rbf?"
   ]
  },
  {
   "cell_type": "code",
   "execution_count": 2,
   "id": "9ce3ea02-1654-4693-9f58-010e74e9a67c",
   "metadata": {
    "tags": []
   },
   "outputs": [],
   "source": [
    "def Number(board, choice):\n",
    "    return board[choice[0]][choice[1]].number\n",
    "\n",
    "def Is_checked(board, choice, put =None):\n",
    "    \n",
    "    if put != None:\n",
    "        board[choice[0]][choice[1]].is_checked = put\n",
    "    \n",
    "    else:\n",
    "        return board[choice[0]][choice[1]].is_checked\n",
    "\n",
    "def Adj(board, choice):\n",
    "    return board[choice[0]][choice[1]].adj\n",
    "\n",
    "def Cell(board, choice):\n",
    "    return board[choice[0]][choice[1]]\n",
    "\n",
    "def prob_of_bomb_in_area(board, prob_board, cell):\n",
    "    bomb_left_to_mark = cell.number\n",
    "    number_of_places_bomb_can_be = 0\n",
    "    for each_adj in cell.adj.values():\n",
    "        if each_adj and Cell(board, each_adj).is_flaged:\n",
    "            bomb_left_to_mark -= 1\n",
    "        if each_adj and not Cell(board, each_adj).is_checked:\n",
    "            number_of_places_bomb_can_be += 1\n",
    "    if bomb_left_to_mark != 0:\n",
    "        prob = combination(number_of_places_bomb_can_be -1 , bomb_left_to_mark -1) / \\\n",
    "            combination(number_of_places_bomb_can_be, bomb_left_to_mark)\n",
    "    else:\n",
    "        prob = 0.00001\n",
    "           \n",
    "    for each_adj in cell.adj.values():\n",
    "        if each_adj and not Cell(board, each_adj).is_checked:\n",
    "            position = Cell(board, each_adj).pos\n",
    "            if prob != 0.00001 and prob_board[position[0]][position[1]] != 0.00001:\n",
    "                max_prob = max(prob_board[position[0]][position[1]],\n",
    "                                                          prob)\n",
    "                prob_board[position[0]][position[1]] = max_prob                                          \n",
    "            if prob == 0.00001:\n",
    "                prob_board[position[0]][position[1]] = 0.00001\n",
    "\n",
    "\n",
    "def combination(n, r):\n",
    "    n_fact = 1\n",
    "    r_fact = 1\n",
    "    n_r_fact = 1\n",
    "    n_r = n - r\n",
    "    for i in range(1, n+1):\n",
    "        n_fact *= i\n",
    "    for i in range(1, r+1):\n",
    "        r_fact *= i\n",
    "    for i in range(1, n_r+1):\n",
    "        n_r_fact *= i\n",
    "    return n_fact/ (r_fact * n_r_fact)"
   ]
  },
  {
   "cell_type": "code",
   "execution_count": 3,
   "id": "01c591ee-e2c7-4835-aca1-557fc3285e6a",
   "metadata": {},
   "outputs": [],
   "source": [
    "def old_solver(board, num_row, num_col, alpha):\n",
    "    given_board = np.array([\"*\" for i in range(num_row) for j in range(num_col)\n",
    "                    ]).reshape(num_row, num_col)\n",
    "    number_bomb = number_bomb = int(0.15*(num_col*num_row))\n",
    "    cell_left  = num_col * num_row\n",
    "    prob_board = np.array([0.0 for i in range(num_row) for j in range(num_col)\n",
    "                    ]).reshape(num_row, num_col)\n",
    "\n",
    "    status = 0\n",
    "    df = pd.DataFrame()\n",
    "    while not status:\n",
    "        action_type = \"random\"\n",
    "        choice_list = [[i,j] for i in range(num_row) for j in range(num_col) if not board[i][j].is_checked]\n",
    "        cell_left = len(choice_list)\n",
    "        action = 0\n",
    "        for i in range(num_row):\n",
    "            for j in range(num_col):\n",
    "                if board[i][j].is_checked and not board[i][j].is_flaged:\n",
    "                    total_number_of_adj_checked=0\n",
    "                    total_number_of_adj_none=0\n",
    "                    for each_adj in board[i][j].adj.values():\n",
    "                        try:\n",
    "                            total_number_of_adj_checked += int(Cell(board, each_adj).is_checked)\n",
    "                        except:\n",
    "                            total_number_of_adj_none += 1\n",
    "                    if (8 - total_number_of_adj_none - total_number_of_adj_checked) > 0:\n",
    "                        prob_of_bomb_in_area(board, prob_board, board[i][j])\n",
    "\n",
    "        max_prob_of_bomb = [0, [-1,-1]]\n",
    "        min_prob_of_bomb = [1, [-1,-1]]\n",
    "        for i in range(num_row):\n",
    "            for j in range(num_col):\n",
    "                if [i,j] in choice_list:\n",
    "                    if prob_board[i][j] > max_prob_of_bomb[0]:\n",
    "                        max_prob_of_bomb[0] = prob_board[i][j]\n",
    "                        max_prob_of_bomb[1] = [i,j]\n",
    "\n",
    "                    total_number_of_adj_checked=0\n",
    "                    total_number_of_adj_flag=0\n",
    "                    for each_adj in Cell(board, [i,j]).adj.values():\n",
    "                        try:\n",
    "                            total_number_of_adj_checked += int(Cell(board, each_adj).is_checked)\n",
    "                            total_number_of_adj_flag += int(Cell(board, each_adj).is_flaged)\n",
    "                        except:\n",
    "                            continue\n",
    "\n",
    "                    if total_number_of_adj_checked - total_number_of_adj_flag > 0:\n",
    "                        if prob_board[i][j] < min_prob_of_bomb[0]:\n",
    "                            min_prob_of_bomb[0] = prob_board[i][j]\n",
    "                            min_prob_of_bomb[1] = [i,j]\n",
    "\n",
    "        if max_prob_of_bomb[0] > 1 - alpha or min_prob_of_bomb[0] < alpha:\n",
    "            action_type = \"probability\"\n",
    "            if max_prob_of_bomb[0] > 1 - alpha:\n",
    "                x,y = max_prob_of_bomb[1]\n",
    "                action = 1\n",
    "            if min_prob_of_bomb[0] < alpha:\n",
    "                x,y = min_prob_of_bomb[1]\n",
    "                action = 0\n",
    "        else:\n",
    "            action_type = \"random\"\n",
    "            left_cell_prob = [[prob_board[x][y],[x,y]] for x,y in choice_list]\n",
    "            pick_in_this = [prob_cell[1] for prob_cell in left_cell_prob if prob_cell[0] == min(left_cell_prob)[0]]\n",
    "            x,y = random.choice(pick_in_this)\n",
    "        try:\n",
    "            if len(choice_list):\n",
    "                choice_list.remove([x,y])\n",
    "        except:\n",
    "            pass\n",
    "        \n",
    "        board, given_board, status = update_board((x,y), action, num_row,num_col, board,given_board,number_bomb,cell_left)\n",
    "        prob_board = np.array([0.0 for i in range(num_row) for j in range(num_col)\n",
    "                        ]).reshape(num_row, num_col)\n",
    "        #if status == 0:\n",
    "        #    print(\"\\n\\n\", given_board)\n",
    "        #elif status == 1:\n",
    "        #    print(\"\\n\\n\", given_board)        \n",
    "        #else:\n",
    "        #    print(\"\\n\\n\", given_board)     \n",
    "\n",
    "        data = {\n",
    "            \"action_type\": [action_type],\n",
    "            \"action\" : [action]\n",
    "        }\n",
    "        df = pd.concat([df, pd.DataFrame(data)])   \n",
    "\n",
    "    return df, {\"action_type\": [action_type],\"status\": [status], \"clicks\": [num_row*num_col-len(choice_list)]}\n",
    "\n",
    "#def main(num_row, \n",
    "#         num_col,\n",
    "#         threshold):\n",
    "#    board = createBoard(num_row, num_col)\n",
    "#    df, status = solver(board, num_row, num_col, threshold)\n",
    "#    df.action = df.action.replace({0: \"left\", 1: \"right\"})\n",
    "#    ct = pd.crosstab(df.action_type, df.action)\n",
    "#    print(ct,\"\\n\", status)\n",
    "#    stacked = ct.stack().reset_index().rename(columns={0:'value'})\n",
    "#    sns.barplot(x=stacked.action_type, y=stacked.value, hue=stacked.action)\n",
    "#    plt.title(\"Lost\" if status[\"status\"] == -1 else \"Win\")\n",
    "#    plt.show()"
   ]
  },
  {
   "cell_type": "code",
   "execution_count": 4,
   "id": "ebc7e326-dac5-4855-80f6-2811c47cced6",
   "metadata": {},
   "outputs": [],
   "source": [
    "def new_solver(board, num_row, num_col, alpha):\n",
    "    given_board = np.array([\"*\" for i in range(num_row) for j in range(num_col)\n",
    "                    ]).reshape(num_row, num_col)\n",
    "    number_bomb = number_bomb = int(0.15*(num_col*num_row))\n",
    "    cell_left  = num_col * num_row\n",
    "    prob_board = np.array([0.0 for i in range(num_row) for j in range(num_col)\n",
    "                    ]).reshape(num_row, num_col)\n",
    "\n",
    "    status = 0\n",
    "    df = pd.DataFrame()\n",
    "    \n",
    "    def safe(x,y):\n",
    "        return x == 0 or y == 0 or x == num_row-1 or y == num_col-1\n",
    "    \n",
    "    while not status:\n",
    "        action_type = \"random\"\n",
    "        choice_list = [[i,j] for i in range(num_row) for j in range(num_col) if not board[i][j].is_checked]\n",
    "        opened_list = [[i,j] for i in range(num_row) for j in range(num_col) if board[i][j].is_checked]\n",
    "        cell_left = len(choice_list)\n",
    "        action = 0\n",
    "        for i in range(num_row):\n",
    "            for j in range(num_col):\n",
    "                if board[i][j].is_checked and not board[i][j].is_flaged:\n",
    "                    total_number_of_adj_checked=0\n",
    "                    total_number_of_adj_none=0\n",
    "                    for each_adj in board[i][j].adj.values():\n",
    "                        try:\n",
    "                            total_number_of_adj_checked += int(Cell(board, each_adj).is_checked)\n",
    "                        except:\n",
    "                            total_number_of_adj_none += 1\n",
    "                    if (8 - total_number_of_adj_none - total_number_of_adj_checked) > 0:\n",
    "                        prob_of_bomb_in_area(board, prob_board, board[i][j])\n",
    "\n",
    "        max_prob_of_bomb = [0, [-1,-1]]\n",
    "        min_prob_of_bomb = [1, [-1,-1]]\n",
    "        for i in range(num_row):\n",
    "            for j in range(num_col):\n",
    "                if [i,j] in choice_list:\n",
    "                    if prob_board[i][j] > max_prob_of_bomb[0]:\n",
    "                        max_prob_of_bomb[0] = prob_board[i][j]\n",
    "                        max_prob_of_bomb[1] = [i,j]\n",
    "\n",
    "                    total_number_of_adj_checked=0\n",
    "                    total_number_of_adj_flag=0\n",
    "                    for each_adj in Cell(board, [i,j]).adj.values():\n",
    "                        try:\n",
    "                            total_number_of_adj_checked += int(Cell(board, each_adj).is_checked)\n",
    "                            total_number_of_adj_flag += int(Cell(board, each_adj).is_flaged)\n",
    "                        except:\n",
    "                            continue\n",
    "\n",
    "                    if total_number_of_adj_checked - total_number_of_adj_flag > 0:\n",
    "                        if prob_board[i][j] < min_prob_of_bomb[0]:\n",
    "                            min_prob_of_bomb[0] = prob_board[i][j]\n",
    "                            min_prob_of_bomb[1] = [i,j]\n",
    "\n",
    "        if max_prob_of_bomb[0] > 1 - alpha or min_prob_of_bomb[0] < alpha:\n",
    "            action_type = \"probability\"\n",
    "            if max_prob_of_bomb[0] > 1 - alpha:\n",
    "                x,y = max_prob_of_bomb[1]\n",
    "                action = 1\n",
    "            if min_prob_of_bomb[0] < alpha:\n",
    "                x,y = min_prob_of_bomb[1]\n",
    "                action = 0\n",
    "        else:\n",
    "            action_type = \"random\"\n",
    "            if opened_list:\n",
    "                x ,y = list(zip(*opened_list))\n",
    "                z = [1]*len(x)\n",
    "                rbf_adj = Rbf(x, y, z, function='gaussian', epsilon = 0.03 * num_row * num_col)\n",
    "                x_fine, y_fine = list(zip(*[[i,j] for i in range(num_row) for j in range(num_col)]))\n",
    "                x_grid, y_grid = np.meshgrid(x_fine, y_fine)\n",
    "                weight = 1 - rbf_adj(x_grid.ravel(), y_grid.ravel()).reshape(x_grid.shape)\n",
    "            \n",
    "                left_cell_prob = [[prob_board[x][y],[x,y]] for x,y in choice_list]\n",
    "                pick_in_this = [prob_cell[1] for prob_cell in left_cell_prob if prob_cell[0] == min(left_cell_prob)[0]]\n",
    "                left_weights = [weight[x][y] for x,y in pick_in_this]\n",
    "                #random.shuffle(pick_in_this)\n",
    "                x,y =pick_in_this[len(left_weights)-1-left_weights[::-1].index(max(left_weights))]\n",
    "                #x,y = random.choices(pick_in_this, weights = left_weights)[0]\n",
    "                \n",
    "            else:\n",
    "                left_cell_prob = [[prob_board[x][y],[x,y]] for x,y in choice_list if safe(x,y)]\n",
    "                pick_in_this = [prob_cell[1] for prob_cell in left_cell_prob if prob_cell[0] == min(left_cell_prob)[0]]\n",
    "                random.shuffle(pick_in_this)\n",
    "                x,y = random.choices(pick_in_this)[0]\n",
    "        try:\n",
    "            if len(choice_list):\n",
    "                choice_list.remove([x,y])\n",
    "        except:\n",
    "            pass\n",
    "        \n",
    "        board, given_board, status = update_board((x,y), action, num_row,num_col, board,given_board,number_bomb,cell_left)\n",
    "        prob_board = np.array([0.0 for i in range(num_row) for j in range(num_col)\n",
    "                        ]).reshape(num_row, num_col)\n",
    "        #if status == 0:\n",
    "        #    print(\"\\n\\n\", given_board)\n",
    "        #elif status == 1:\n",
    "        #    print(\"\\n\\n\", given_board)        \n",
    "        #else:\n",
    "        #    print(\"\\n\\n\", given_board)     \n",
    "\n",
    "        data = {\n",
    "            \"action_type\": [action_type],\n",
    "            \"action\" : [action]\n",
    "        }\n",
    "        df = pd.concat([df, pd.DataFrame(data)])   \n",
    "\n",
    "    return df, {\"action_type\": [action_type],\"status\": [status], \"clicks\": [num_row*num_col-len(choice_list)]}, given_board"
   ]
  },
  {
   "cell_type": "code",
   "execution_count": 6,
   "id": "e554e221-1eba-43b0-b97f-865e593becd2",
   "metadata": {},
   "outputs": [],
   "source": [
    "num_row, num_col = (10,10)\n"
   ]
  },
  {
   "cell_type": "code",
   "execution_count": 61,
   "id": "eb454801-88e3-43f1-8144-5784840b9c05",
   "metadata": {},
   "outputs": [],
   "source": [
    "board = createBoard(num_row, num_col)\n",
    "action_type, status, board = new_solver(board, num_row, num_col, 0.1)"
   ]
  },
  {
   "cell_type": "code",
   "execution_count": 62,
   "id": "ca84e1a3-bc4b-4628-a930-487702d29269",
   "metadata": {},
   "outputs": [
    {
     "data": {
      "text/plain": [
       "{'action_type': ['random'], 'status': [-1], 'clicks': [88]}"
      ]
     },
     "execution_count": 62,
     "metadata": {},
     "output_type": "execute_result"
    }
   ],
   "source": [
    "status"
   ]
  },
  {
   "cell_type": "code",
   "execution_count": 63,
   "id": "992b2664-bd33-49a7-9708-385eb7a1f96a",
   "metadata": {},
   "outputs": [
    {
     "data": {
      "text/plain": [
       "array([['1', '*', '2', '1', '0', '0', '0', '0', '0', '0'],\n",
       "       ['1', '*', '#', '1', '0', '0', '0', '1', '1', '1'],\n",
       "       ['1', '2', '2', '1', '0', '0', '0', '2', '#', '2'],\n",
       "       ['1', '*', '1', '0', '0', '0', '1', '3', '#', '2'],\n",
       "       ['2', '*', '3', '2', '2', '1', '2', '#', '2', '1'],\n",
       "       ['*', '3', '#', '#', '2', '#', '2', '2', '2', '1'],\n",
       "       ['*', '*', '*', '3', '2', '1', '1', '1', '#', '1'],\n",
       "       ['2', '4', '*', '2', '0', '0', '0', '1', '1', '1'],\n",
       "       ['*', '*', '*', '2', '0', '0', '0', '0', '0', '0'],\n",
       "       ['1', '2', '*', '1', '0', '0', '0', '0', '0', '0']], dtype='<U1')"
      ]
     },
     "execution_count": 63,
     "metadata": {},
     "output_type": "execute_result"
    }
   ],
   "source": [
    "board"
   ]
  },
  {
   "cell_type": "code",
   "execution_count": 102,
   "id": "a8e4898b-77d7-4701-a9ab-7645706920d7",
   "metadata": {},
   "outputs": [
    {
     "name": "stderr",
     "output_type": "stream",
     "text": [
      "<ipython-input-102-ef73449a6335>:1: MatplotlibDeprecationWarning: shading='flat' when X and Y have the same dimensions as C is deprecated since 3.3.  Either specify the corners of the quadrilaterals with X and Y, or pass shading='auto', 'nearest' or 'gouraud', or set rcParams['pcolor.shading'].  This will become an error two minor releases later.\n",
      "  plt.pcolor(x_fine, y_fine, weights);\n"
     ]
    },
    {
     "data": {
      "image/png": "[encoded data removed]",
      "text/plain": [
       "<Figure size 432x288 with 2 Axes>"
      ]
     },
     "metadata": {
      "needs_background": "light"
     },
     "output_type": "display_data"
    }
   ],
   "source": [
    "plt.pcolor(x_fine, y_fine, weights);\n",
    "plt.plot(x, y, 'ok');\n",
    "plt.xlabel('x'); plt.ylabel('y'); plt.colorbar();\n",
    "plt.title('RBF Gaussian interpolation');"
   ]
  },
  {
   "cell_type": "code",
   "execution_count": null,
   "id": "85d74834-0a59-4938-9f67-fac6ef43ce58",
   "metadata": {},
   "outputs": [],
   "source": []
  },
  {
   "cell_type": "code",
   "execution_count": null,
   "id": "981376ad-8f05-43e6-ab01-1086ca0f728a",
   "metadata": {},
   "outputs": [],
   "source": []
  },
  {
   "cell_type": "code",
   "execution_count": 68,
   "id": "a9506185-8940-4165-9cd0-64a7791878bc",
   "metadata": {},
   "outputs": [
    {
     "data": {
      "text/plain": [
       "[1]"
      ]
     },
     "execution_count": 68,
     "metadata": {},
     "output_type": "execute_result"
    }
   ],
   "source": [
    "random.choices([0,1], weights=(0.1, 0.9))"
   ]
  },
  {
   "cell_type": "code",
   "execution_count": 7,
   "id": "2e0c1d1c-bda9-4c0c-b618-b863c6874b67",
   "metadata": {},
   "outputs": [],
   "source": [
    "import copy "
   ]
  },
  {
   "cell_type": "code",
   "execution_count": 430,
   "id": "68d5ac27-eed6-41cb-9569-74f6b5494844",
   "metadata": {},
   "outputs": [
    {
     "data": {
      "text/plain": [
       "\u001b[1;31mSignature:\u001b[0m \u001b[0mcopy\u001b[0m\u001b[1;33m.\u001b[0m\u001b[0mdeepcopy\u001b[0m\u001b[1;33m(\u001b[0m\u001b[0mx\u001b[0m\u001b[1;33m,\u001b[0m \u001b[0mmemo\u001b[0m\u001b[1;33m=\u001b[0m\u001b[1;32mNone\u001b[0m\u001b[1;33m,\u001b[0m \u001b[0m_nil\u001b[0m\u001b[1;33m=\u001b[0m\u001b[1;33m[\u001b[0m\u001b[1;33m]\u001b[0m\u001b[1;33m)\u001b[0m\u001b[1;33m\u001b[0m\u001b[1;33m\u001b[0m\u001b[0m\n",
       "\u001b[1;31mDocstring:\u001b[0m\n",
       "Deep copy operation on arbitrary Python objects.\n",
       "\n",
       "See the module's __doc__ string for more info.\n",
       "\u001b[1;31mFile:\u001b[0m      c:\\users\\prans\\anaconda3\\lib\\copy.py\n",
       "\u001b[1;31mType:\u001b[0m      function\n"
      ]
     },
     "metadata": {},
     "output_type": "display_data"
    }
   ],
   "source": [
    "copy.deepcopy?"
   ]
  },
  {
   "cell_type": "code",
   "execution_count": 13,
   "id": "f2f050d6-1d05-4b07-82b4-29a99323e7f8",
   "metadata": {},
   "outputs": [
    {
     "data": {
      "application/vnd.jupyter.widget-view+json": {
       "model_id": "b98f4cf6a51d4cf885d2967bc54e0c88",
       "version_major": 2,
       "version_minor": 0
      },
      "text/plain": [
       "  0%|          | 0/500 [00:00<?, ?it/s]"
      ]
     },
     "metadata": {},
     "output_type": "display_data"
    }
   ],
   "source": [
    "num_row, num_col, threshold = (10,10,0.1)\n",
    "res_status_o = pd.DataFrame()\n",
    "res_status_n = pd.DataFrame()\n",
    "for i in trange(500):\n",
    "    try:\n",
    "        board_o = createBoard(num_row, num_col)\n",
    "        #board_n = copy.deepcopy(board_o)\n",
    "        df_o, status_o = old_solver(board_o, num_row, num_col, threshold)\n",
    "        #dfn, status_n = new_solver(board_n, num_row, num_col, threshold)\n",
    "        res_status_o = pd.concat([res_status_o, pd.DataFrame(status_o)])\n",
    "        #res_status_n = pd.concat([res_status_n, pd.DataFrame(status_n)])\n",
    "    except:\n",
    "        continue"
   ]
  },
  {
   "cell_type": "code",
   "execution_count": 16,
   "id": "eab6be55-5f6e-4518-bb9c-aa40f25a9ba3",
   "metadata": {},
   "outputs": [],
   "source": [
    "res_status_o.status = np.where(res_status_o.status == 1, \"Won\", \"Lost\")"
   ]
  },
  {
   "cell_type": "code",
   "execution_count": 19,
   "id": "7b323409-4257-4e61-be1d-9a9032660130",
   "metadata": {},
   "outputs": [
    {
     "data": {
      "text/plain": [
       "<AxesSubplot:xlabel='status', ylabel='action_type'>"
      ]
     },
     "execution_count": 19,
     "metadata": {},
     "output_type": "execute_result"
    },
    {
     "data": {
      "image/png": "[encoded data removed]",
      "text/plain": [
       "<Figure size 432x288 with 2 Axes>"
      ]
     },
     "metadata": {
      "needs_background": "light"
     },
     "output_type": "display_data"
    }
   ],
   "source": [
    "sns.heatmap(pd.crosstab(res_status_o.action_type, res_status_o.status), annot= True, fmt= \".3g\")"
   ]
  },
  {
   "cell_type": "code",
   "execution_count": 106,
   "id": "e1356fa1-b4eb-4389-b8a3-810d53301d4a",
   "metadata": {},
   "outputs": [
    {
     "data": {
      "text/html": [
       "<div>\n",
       "<style scoped>\n",
       "    .dataframe tbody tr th:only-of-type {\n",
       "        vertical-align: middle;\n",
       "    }\n",
       "\n",
       "    .dataframe tbody tr th {\n",
       "        vertical-align: top;\n",
       "    }\n",
       "\n",
       "    .dataframe thead th {\n",
       "        text-align: right;\n",
       "    }\n",
       "</style>\n",
       "<table border=\"1\" class=\"dataframe\">\n",
       "  <thead>\n",
       "    <tr style=\"text-align: right;\">\n",
       "      <th>status</th>\n",
       "      <th>-1</th>\n",
       "      <th>1</th>\n",
       "    </tr>\n",
       "    <tr>\n",
       "      <th>action_type</th>\n",
       "      <th></th>\n",
       "      <th></th>\n",
       "    </tr>\n",
       "  </thead>\n",
       "  <tbody>\n",
       "    <tr>\n",
       "      <th>probability</th>\n",
       "      <td>0</td>\n",
       "      <td>252</td>\n",
       "    </tr>\n",
       "    <tr>\n",
       "      <th>random</th>\n",
       "      <td>247</td>\n",
       "      <td>1</td>\n",
       "    </tr>\n",
       "  </tbody>\n",
       "</table>\n",
       "</div>"
      ],
      "text/plain": [
       "status        -1    1\n",
       "action_type          \n",
       "probability    0  252\n",
       "random       247    1"
      ]
     },
     "execution_count": 106,
     "metadata": {},
     "output_type": "execute_result"
    }
   ],
   "source": [
    "pd.crosstab(res_status_n.action_type, res_status_n.status)"
   ]
  },
  {
   "cell_type": "code",
   "execution_count": 107,
   "id": "d95fca90-401e-43d4-bb7e-34b16602ff21",
   "metadata": {},
   "outputs": [],
   "source": [
    "res_status_n[\"model\"] = \"new\"\n",
    "res_status_o[\"model\"] = \"old\""
   ]
  },
  {
   "cell_type": "code",
   "execution_count": 108,
   "id": "497a07b1-c6d5-486a-b7e0-c54829501223",
   "metadata": {},
   "outputs": [],
   "source": [
    "res_status = pd.concat([res_status_o, res_status_n])"
   ]
  },
  {
   "cell_type": "code",
   "execution_count": 109,
   "id": "82b8939b-abfc-4c82-b30d-d35c0e8fdba8",
   "metadata": {},
   "outputs": [
    {
     "data": {
      "text/plain": [
       "(0.0, 100.0)"
      ]
     },
     "execution_count": 109,
     "metadata": {},
     "output_type": "execute_result"
    },
    {
     "data": {
      "image/png": "[encoded data removed]",
      "text/plain": [
       "<Figure size 432x288 with 1 Axes>"
      ]
     },
     "metadata": {
      "needs_background": "light"
     },
     "output_type": "display_data"
    }
   ],
   "source": [
    "sns.kdeplot(data = res_status, x = \"clicks\", hue = \"model\")\n",
    "plt.xlim(0,100)"
   ]
  },
  {
   "cell_type": "code",
   "execution_count": 273,
   "id": "e6206855-803f-4a99-89fa-a335cf4d2015",
   "metadata": {},
   "outputs": [],
   "source": [
    "x ,y = list(zip(*opened_list))\n",
    "z = [1]*len(x)\n",
    "\n",
    "rbf_adj = Rbf(x, y, z, function='inverse', epsilon = 0.01 * num_row * num_col)\n",
    "\n",
    "x_fine, y_fine = list(zip(*[[i,j] for i in range(num_row) for j in range(num_col)]))\n",
    "\n",
    "x_grid, y_grid = np.meshgrid(x_fine, y_fine)\n",
    "\n",
    "weight = 1 - rbf_adj(x_grid.ravel(), y_grid.ravel()).reshape(x_grid.shape)"
   ]
  },
  {
   "cell_type": "code",
   "execution_count": 274,
   "id": "9b9115a4-b1dd-49d3-a9c0-bc0fcba9c375",
   "metadata": {},
   "outputs": [
    {
     "data": {
      "text/plain": [
       "0.0"
      ]
     },
     "execution_count": 274,
     "metadata": {},
     "output_type": "execute_result"
    }
   ],
   "source": [
    "weight[0,5]"
   ]
  },
  {
   "cell_type": "code",
   "execution_count": 111,
   "id": "e3a904f3-43ff-475c-bbcb-d8f22e2da468",
   "metadata": {},
   "outputs": [
    {
     "name": "stderr",
     "output_type": "stream",
     "text": [
      "<ipython-input-111-2e232434fb13>:16: MatplotlibDeprecationWarning: shading='flat' when X and Y have the same dimensions as C is deprecated since 3.3.  Either specify the corners of the quadrilaterals with X and Y, or pass shading='auto', 'nearest' or 'gouraud', or set rcParams['pcolor.shading'].  This will become an error two minor releases later.\n",
      "  plt.pcolor(x_fine, y_fine, z_grid);\n"
     ]
    },
    {
     "data": {
      "image/png": "[encoded data removed]",
      "text/plain": [
       "<Figure size 432x288 with 2 Axes>"
      ]
     },
     "metadata": {
      "needs_background": "light"
     },
     "output_type": "display_data"
    }
   ],
   "source": [
    "from scipy.interpolate.rbf import Rbf  # radial basis functions\n",
    "import matplotlib.pyplot as plt\n",
    "import numpy as np\n",
    "\n",
    "x, y = list(zip(*[[0,0],[9,9]]))\n",
    "z = [1]*len(x)\n",
    "\n",
    "rbf_adj = Rbf(x, y, z, function='gaussian', epsilon = 0.02 * num_row * num_col)\n",
    "\n",
    "x_fine, y_fine = list(zip(*[[i,j] for i in range(num_row) for j in range(num_col)]))\n",
    "\n",
    "x_grid, y_grid = np.meshgrid(x_fine, y_fine)\n",
    "\n",
    "z_grid = 1 - rbf_adj(x_grid.ravel(), y_grid.ravel()).reshape(x_grid.shape)\n",
    "\n",
    "plt.pcolor(x_fine, y_fine, z_grid);\n",
    "plt.plot(x, y, 'ok');\n",
    "plt.xlabel('x'); plt.ylabel('y'); plt.colorbar();\n",
    "plt.title('RBF Gaussian interpolation');"
   ]
  },
  {
   "cell_type": "code",
   "execution_count": 107,
   "id": "54267b61-3be0-4407-aefa-a0adbdb8cf6e",
   "metadata": {},
   "outputs": [
    {
     "data": {
      "text/plain": [
       "\u001b[1;31mInit signature:\u001b[0m \u001b[0mRbf\u001b[0m\u001b[1;33m(\u001b[0m\u001b[1;33m*\u001b[0m\u001b[0margs\u001b[0m\u001b[1;33m,\u001b[0m \u001b[1;33m**\u001b[0m\u001b[0mkwargs\u001b[0m\u001b[1;33m)\u001b[0m\u001b[1;33m\u001b[0m\u001b[1;33m\u001b[0m\u001b[0m\n",
       "\u001b[1;31mDocstring:\u001b[0m     \n",
       "Rbf(*args)\n",
       "\n",
       "A class for radial basis function interpolation of functions from\n",
       "N-D scattered data to an M-D domain.\n",
       "\n",
       "Parameters\n",
       "----------\n",
       "*args : arrays\n",
       "    x, y, z, ..., d, where x, y, z, ... are the coordinates of the nodes\n",
       "    and d is the array of values at the nodes\n",
       "function : str or callable, optional\n",
       "    The radial basis function, based on the radius, r, given by the norm\n",
       "    (default is Euclidean distance); the default is 'multiquadric'::\n",
       "\n",
       "        'multiquadric': sqrt((r/self.epsilon)**2 + 1)\n",
       "        'inverse': 1.0/sqrt((r/self.epsilon)**2 + 1)\n",
       "        'gaussian': exp(-(r/self.epsilon)**2)\n",
       "        'linear': r\n",
       "        'cubic': r**3\n",
       "        'quintic': r**5\n",
       "        'thin_plate': r**2 * log(r)\n",
       "\n",
       "    If callable, then it must take 2 arguments (self, r). The epsilon\n",
       "    parameter will be available as self.epsilon. Other keyword\n",
       "    arguments passed in will be available as well.\n",
       "\n",
       "epsilon : float, optional\n",
       "    Adjustable constant for gaussian or multiquadrics functions\n",
       "    - defaults to approximate average distance between nodes (which is\n",
       "    a good start).\n",
       "smooth : float, optional\n",
       "    Values greater than zero increase the smoothness of the\n",
       "    approximation. 0 is for interpolation (default), the function will\n",
       "    always go through the nodal points in this case.\n",
       "norm : str, callable, optional\n",
       "    A function that returns the 'distance' between two points, with\n",
       "    inputs as arrays of positions (x, y, z, ...), and an output as an\n",
       "    array of distance. E.g., the default: 'euclidean', such that the result\n",
       "    is a matrix of the distances from each point in ``x1`` to each point in\n",
       "    ``x2``. For more options, see documentation of\n",
       "    `scipy.spatial.distances.cdist`.\n",
       "mode : str, optional\n",
       "    Mode of the interpolation, can be '1-D' (default) or 'N-D'. When it is\n",
       "    '1-D' the data `d` will be considered as 1-D and flattened\n",
       "    internally. When it is 'N-D' the data `d` is assumed to be an array of\n",
       "    shape (n_samples, m), where m is the dimension of the target domain.\n",
       "\n",
       "\n",
       "Attributes\n",
       "----------\n",
       "N : int\n",
       "    The number of data points (as determined by the input arrays).\n",
       "di : ndarray\n",
       "    The 1-D array of data values at each of the data coordinates `xi`.\n",
       "xi : ndarray\n",
       "    The 2-D array of data coordinates.\n",
       "function : str or callable\n",
       "    The radial basis function. See description under Parameters.\n",
       "epsilon : float\n",
       "    Parameter used by gaussian or multiquadrics functions. See Parameters.\n",
       "smooth : float\n",
       "    Smoothing parameter. See description under Parameters.\n",
       "norm : str or callable\n",
       "    The distance function. See description under Parameters.\n",
       "mode : str\n",
       "    Mode of the interpolation. See description under Parameters.\n",
       "nodes : ndarray\n",
       "    A 1-D array of node values for the interpolation.\n",
       "A : internal property, do not use\n",
       "\n",
       "Examples\n",
       "--------\n",
       ">>> from scipy.interpolate import Rbf\n",
       ">>> x, y, z, d = np.random.rand(4, 50)\n",
       ">>> rbfi = Rbf(x, y, z, d)  # radial basis function interpolator instance\n",
       ">>> xi = yi = zi = np.linspace(0, 1, 20)\n",
       ">>> di = rbfi(xi, yi, zi)   # interpolated values\n",
       ">>> di.shape\n",
       "(20,)\n",
       "\u001b[1;31mFile:\u001b[0m           c:\\users\\prans\\anaconda3\\lib\\site-packages\\scipy\\interpolate\\rbf.py\n",
       "\u001b[1;31mType:\u001b[0m           type\n",
       "\u001b[1;31mSubclasses:\u001b[0m     \n"
      ]
     },
     "metadata": {},
     "output_type": "display_data"
    }
   ],
   "source": [
    "Rbf?"
   ]
  },
  {
   "cell_type": "code",
   "execution_count": null,
   "id": "95004b8e-2fc7-4556-b434-3bc98b1d7cb6",
   "metadata": {},
   "outputs": [],
   "source": []
  },
  {
   "cell_type": "code",
   "execution_count": null,
   "id": "1f34bf90-706b-46e7-afb6-65214131aa83",
   "metadata": {},
   "outputs": [],
   "source": [
    "(z_grid*100).flatten().tolist()"
   ]
  },
  {
   "cell_type": "code",
   "execution_count": 64,
   "id": "745133ff-8288-4f16-85f5-29bed61f7439",
   "metadata": {},
   "outputs": [
    {
     "data": {
      "text/plain": [
       "[[0, 1, 2, 3, 4, 5, 6, 7, 8, 9],\n",
       " [0, 1, 2, 3, 4, 5, 6, 7, 8, 9],\n",
       " [0, 1, 2, 3, 4, 5, 6, 7, 8, 9],\n",
       " [0, 1, 2, 3, 4, 5, 6, 7, 8, 9],\n",
       " [0, 1, 2, 3, 4, 5, 6, 7, 8, 9],\n",
       " [0, 1, 2, 3, 4, 5, 6, 7, 8, 9],\n",
       " [0, 1, 2, 3, 4, 5, 6, 7, 8, 9],\n",
       " [0, 1, 2, 3, 4, 5, 6, 7, 8, 9],\n",
       " [0, 1, 2, 3, 4, 5, 6, 7, 8, 9],\n",
       " [0, 1, 2, 3, 4, 5, 6, 7, 8, 9]]"
      ]
     },
     "execution_count": 64,
     "metadata": {},
     "output_type": "execute_result"
    }
   ],
   "source": [
    "x = [[i for i in range(10)] for j in range(10)]\n",
    "x"
   ]
  },
  {
   "cell_type": "code",
   "execution_count": 69,
   "id": "d1506cfa-369b-426e-86c4-50ff75022616",
   "metadata": {},
   "outputs": [],
   "source": [
    "x = pd.DataFrame(x)"
   ]
  },
  {
   "cell_type": "code",
   "execution_count": 73,
   "id": "cf3ebbbb-0fa4-4d9f-ab19-21de82558f45",
   "metadata": {},
   "outputs": [],
   "source": [
    "x.index = x.index.astype(str)\n",
    "x.columns = x.columns.astype(str)"
   ]
  },
  {
   "cell_type": "code",
   "execution_count": 75,
   "id": "ec9608c7-46a1-490d-8cb7-e0f7fa14f1a2",
   "metadata": {},
   "outputs": [
    {
     "data": {
      "text/plain": [
       "{'0': {'0': 0,\n",
       "  '1': 0,\n",
       "  '2': 0,\n",
       "  '3': 0,\n",
       "  '4': 0,\n",
       "  '5': 0,\n",
       "  '6': 0,\n",
       "  '7': 0,\n",
       "  '8': 0,\n",
       "  '9': 0},\n",
       " '1': {'0': 1,\n",
       "  '1': 1,\n",
       "  '2': 1,\n",
       "  '3': 1,\n",
       "  '4': 1,\n",
       "  '5': 1,\n",
       "  '6': 1,\n",
       "  '7': 1,\n",
       "  '8': 1,\n",
       "  '9': 1},\n",
       " '2': {'0': 2,\n",
       "  '1': 2,\n",
       "  '2': 2,\n",
       "  '3': 2,\n",
       "  '4': 2,\n",
       "  '5': 2,\n",
       "  '6': 2,\n",
       "  '7': 2,\n",
       "  '8': 2,\n",
       "  '9': 2},\n",
       " '3': {'0': 3,\n",
       "  '1': 3,\n",
       "  '2': 3,\n",
       "  '3': 3,\n",
       "  '4': 3,\n",
       "  '5': 3,\n",
       "  '6': 3,\n",
       "  '7': 3,\n",
       "  '8': 3,\n",
       "  '9': 3},\n",
       " '4': {'0': 4,\n",
       "  '1': 4,\n",
       "  '2': 4,\n",
       "  '3': 4,\n",
       "  '4': 4,\n",
       "  '5': 4,\n",
       "  '6': 4,\n",
       "  '7': 4,\n",
       "  '8': 4,\n",
       "  '9': 4},\n",
       " '5': {'0': 5,\n",
       "  '1': 5,\n",
       "  '2': 5,\n",
       "  '3': 5,\n",
       "  '4': 5,\n",
       "  '5': 5,\n",
       "  '6': 5,\n",
       "  '7': 5,\n",
       "  '8': 5,\n",
       "  '9': 5},\n",
       " '6': {'0': 6,\n",
       "  '1': 6,\n",
       "  '2': 6,\n",
       "  '3': 6,\n",
       "  '4': 6,\n",
       "  '5': 6,\n",
       "  '6': 6,\n",
       "  '7': 6,\n",
       "  '8': 6,\n",
       "  '9': 6},\n",
       " '7': {'0': 7,\n",
       "  '1': 7,\n",
       "  '2': 7,\n",
       "  '3': 7,\n",
       "  '4': 7,\n",
       "  '5': 7,\n",
       "  '6': 7,\n",
       "  '7': 7,\n",
       "  '8': 7,\n",
       "  '9': 7},\n",
       " '8': {'0': 8,\n",
       "  '1': 8,\n",
       "  '2': 8,\n",
       "  '3': 8,\n",
       "  '4': 8,\n",
       "  '5': 8,\n",
       "  '6': 8,\n",
       "  '7': 8,\n",
       "  '8': 8,\n",
       "  '9': 8},\n",
       " '9': {'0': 9,\n",
       "  '1': 9,\n",
       "  '2': 9,\n",
       "  '3': 9,\n",
       "  '4': 9,\n",
       "  '5': 9,\n",
       "  '6': 9,\n",
       "  '7': 9,\n",
       "  '8': 9,\n",
       "  '9': 9}}"
      ]
     },
     "execution_count": 75,
     "metadata": {},
     "output_type": "execute_result"
    }
   ],
   "source": [
    "x.to_dict()"
   ]
  },
  {
   "cell_type": "code",
   "execution_count": 357,
   "id": "048eda77-6183-4fbe-8179-ecc5838e6509",
   "metadata": {},
   "outputs": [
    {
     "data": {
      "text/plain": [
       "[[0, 1, 2, 3, 4, 5, 6, 7, 8, 9], [0, 1, 2, 3, 4, 5, 6, 7, 8, 9]]"
      ]
     },
     "execution_count": 357,
     "metadata": {},
     "output_type": "execute_result"
    }
   ],
   "source": [
    "[j for i,j in enumerate(x) if i==0 or i==len(x)-1]"
   ]
  },
  {
   "cell_type": "code",
   "execution_count": 382,
   "id": "94bae45d-9c72-455e-88bc-bf7dd464f8fb",
   "metadata": {},
   "outputs": [
    {
     "name": "stdout",
     "output_type": "stream",
     "text": [
      "Help on built-in function index:\n",
      "\n",
      "index(value, start=0, stop=9223372036854775807, /) method of builtins.list instance\n",
      "    Return first index of value.\n",
      "    \n",
      "    Raises ValueError if the value is not present.\n",
      "\n"
     ]
    }
   ],
   "source": [
    "help([1,2,3,3].index)"
   ]
  },
  {
   "cell_type": "code",
   "execution_count": 6,
   "id": "9232126e-1ac1-4c79-98b6-dcf79b1bce02",
   "metadata": {},
   "outputs": [],
   "source": [
    "board = createBoard(10, 10)"
   ]
  },
  {
   "cell_type": "code",
   "execution_count": 25,
   "id": "3dd619e3-97b9-48bb-b0f8-71d10e5df65d",
   "metadata": {},
   "outputs": [
    {
     "data": {
      "text/plain": [
       "97"
      ]
     },
     "execution_count": 25,
     "metadata": {},
     "output_type": "execute_result"
    }
   ],
   "source": [
    "100 - sum([row.is_bomb and row.is_flaged for col in board for row in col])"
   ]
  },
  {
   "cell_type": "code",
   "execution_count": null,
   "id": "63e9a928-8d0f-4acf-a86a-dc58f4490eaa",
   "metadata": {},
   "outputs": [],
   "source": []
  }
 ],
 "metadata": {
  "kernelspec": {
   "display_name": "Python 3",
   "language": "python",
   "name": "python3"
  },
  "language_info": {
   "codemirror_mode": {
    "name": "ipython",
    "version": 3
   },
   "file_extension": ".py",
   "mimetype": "text/x-python",
   "name": "python",
   "nbconvert_exporter": "python",
   "pygments_lexer": "ipython3",
   "version": "3.8.8"
  }
 },
 "nbformat": 4,
 "nbformat_minor": 5
}
